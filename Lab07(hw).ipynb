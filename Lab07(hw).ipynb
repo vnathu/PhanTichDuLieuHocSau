{
  "nbformat": 4,
  "nbformat_minor": 0,
  "metadata": {
    "colab": {
      "name": "Lab07(hw).ipynb",
      "provenance": [],
      "authorship_tag": "ABX9TyMkSqXqTNCMGiArOVGsrFOe",
      "include_colab_link": true
    },
    "kernelspec": {
      "name": "python3",
      "display_name": "Python 3"
    },
    "language_info": {
      "name": "python"
    }
  },
  "cells": [
    {
      "cell_type": "markdown",
      "metadata": {
        "id": "view-in-github",
        "colab_type": "text"
      },
      "source": [
        "<a href=\"https://colab.research.google.com/github/vnathu/PhanTichDuLieuHocSau/blob/main/Lab07(hw).ipynb\" target=\"_parent\"><img src=\"https://colab.research.google.com/assets/colab-badge.svg\" alt=\"Open In Colab\"/></a>"
      ]
    },
    {
      "cell_type": "markdown",
      "metadata": {
        "id": "gv1HwHTtpRha"
      },
      "source": [
        "1. Thực hiện bài nhận dạng chữ viết tay với thứ viện Keras\n",
        "2. Phân loại ảnh với dữ liệu CIF AR 10 dataset bao gồm 50.000 training set và 10.000 test set ảnh màu kích thước 32x32 cho 10 thể loại khác nhau (máy bay, ô tô, thuyền, chim, chó, mèo, ngựa...)"
      ]
    },
    {
      "cell_type": "code",
      "metadata": {
        "id": "blaM_HBjpVgL"
      },
      "source": [
        "#Thực hiện bài nhận dạng chữ viết tay với thứ viện Keras\n",
        "import numpy as np\n",
        "import matplotlib.pyplot as plt\n",
        "from keras.models import Sequential\n",
        "from keras.layers import Dense, Dropout, Activation, Flatten\n",
        "from keras.layers import Conv2D, MaxPooling2D\n",
        "from keras.utils import np_utils\n",
        "from keras.datasets import cifar10"
      ],
      "execution_count": 1,
      "outputs": []
    },
    {
      "cell_type": "code",
      "metadata": {
        "colab": {
          "base_uri": "https://localhost:8080/"
        },
        "id": "oxCndkuipcP5",
        "outputId": "9c4ae3e1-9140-49d0-fa75-b16c9b1cca3d"
      },
      "source": [
        "(train_X,train_Y),(test_X,test_Y)=cifar10.load_data()"
      ],
      "execution_count": 2,
      "outputs": [
        {
          "output_type": "stream",
          "name": "stdout",
          "text": [
            "Downloading data from https://www.cs.toronto.edu/~kriz/cifar-10-python.tar.gz\n",
            "170500096/170498071 [==============================] - 2s 0us/step\n",
            "170508288/170498071 [==============================] - 2s 0us/step\n"
          ]
        }
      ]
    },
    {
      "cell_type": "code",
      "metadata": {
        "colab": {
          "base_uri": "https://localhost:8080/"
        },
        "id": "u26nzUhrpfUv",
        "outputId": "6fcaeb5c-ed30-43c5-dc0d-8cad20c3d023"
      },
      "source": [
        "#Phân loại ảnh với dữ liệu CIF AR 10 dataset bao gồm 50.000 training set và 10.000 test set ảnh màu kích thước 32x32 cho 10 thể loại khác nhau (máy bay, ô tô, thuyền, chim, chó, mèo, ngựa...)\n",
        "(X_train, y_train), (X_test, y_test) = cifar10.load_data()\n",
        "print(\"x_train shape\",X_train.shape)"
      ],
      "execution_count": 3,
      "outputs": [
        {
          "output_type": "stream",
          "name": "stdout",
          "text": [
            "x_train shape (50000, 32, 32, 3)\n"
          ]
        }
      ]
    }
  ]
}