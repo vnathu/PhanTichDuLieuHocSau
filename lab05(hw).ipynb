{
  "nbformat": 4,
  "nbformat_minor": 0,
  "metadata": {
    "colab": {
      "name": "lab05(hw).ipynb",
      "provenance": [],
      "authorship_tag": "ABX9TyPTw1w0r7TZ0ek5kdevn6w8",
      "include_colab_link": true
    },
    "kernelspec": {
      "name": "python3",
      "display_name": "Python 3"
    },
    "language_info": {
      "name": "python"
    }
  },
  "cells": [
    {
      "cell_type": "markdown",
      "metadata": {
        "id": "view-in-github",
        "colab_type": "text"
      },
      "source": [
        "<a href=\"https://colab.research.google.com/github/vnathu/PhanTichDuLieuHocSau/blob/main/lab05(hw).ipynb\" target=\"_parent\"><img src=\"https://colab.research.google.com/assets/colab-badge.svg\" alt=\"Open In Colab\"/></a>"
      ]
    },
    {
      "cell_type": "code",
      "metadata": {
        "id": "NUOjcP5yyVfq"
      },
      "source": [
        "#khai báo các thư viện\n",
        "import numpy as np\n",
        "import pandas as pd\n",
        "from scipy import stats\n",
        "import seaborn as sns\n",
        "from scipy.stats import kurtosis\n",
        "from matplotlib import pyplot as plt"
      ],
      "execution_count": 1,
      "outputs": []
    },
    {
      "cell_type": "code",
      "metadata": {
        "colab": {
          "base_uri": "https://localhost:8080/",
          "height": 417
        },
        "id": "tRcJVzgUyiTz",
        "outputId": "6595796b-2b1f-4bb7-a221-5b125c96becf"
      },
      "source": [
        "# lấy dữ liệu\n",
        "df = pd.read_fwf(\"https://raw.githubusercontent.com/huynhhoc/DataAnalystDeepLearning/main/Data/babies.txt\")\n",
        "df"
      ],
      "execution_count": 2,
      "outputs": [
        {
          "output_type": "execute_result",
          "data": {
            "text/html": [
              "<div>\n",
              "<style scoped>\n",
              "    .dataframe tbody tr th:only-of-type {\n",
              "        vertical-align: middle;\n",
              "    }\n",
              "\n",
              "    .dataframe tbody tr th {\n",
              "        vertical-align: top;\n",
              "    }\n",
              "\n",
              "    .dataframe thead th {\n",
              "        text-align: right;\n",
              "    }\n",
              "</style>\n",
              "<table border=\"1\" class=\"dataframe\">\n",
              "  <thead>\n",
              "    <tr style=\"text-align: right;\">\n",
              "      <th></th>\n",
              "      <th>bwt</th>\n",
              "      <th>smoke</th>\n",
              "    </tr>\n",
              "  </thead>\n",
              "  <tbody>\n",
              "    <tr>\n",
              "      <th>0</th>\n",
              "      <td>120.0</td>\n",
              "      <td>0.0</td>\n",
              "    </tr>\n",
              "    <tr>\n",
              "      <th>1</th>\n",
              "      <td>113.0</td>\n",
              "      <td>0.0</td>\n",
              "    </tr>\n",
              "    <tr>\n",
              "      <th>2</th>\n",
              "      <td>128.0</td>\n",
              "      <td>1.0</td>\n",
              "    </tr>\n",
              "    <tr>\n",
              "      <th>3</th>\n",
              "      <td>123.0</td>\n",
              "      <td>0.0</td>\n",
              "    </tr>\n",
              "    <tr>\n",
              "      <th>4</th>\n",
              "      <td>108.0</td>\n",
              "      <td>1.0</td>\n",
              "    </tr>\n",
              "    <tr>\n",
              "      <th>...</th>\n",
              "      <td>...</td>\n",
              "      <td>...</td>\n",
              "    </tr>\n",
              "    <tr>\n",
              "      <th>1232</th>\n",
              "      <td>128.0</td>\n",
              "      <td>0.0</td>\n",
              "    </tr>\n",
              "    <tr>\n",
              "      <th>1233</th>\n",
              "      <td>130.0</td>\n",
              "      <td>1.0</td>\n",
              "    </tr>\n",
              "    <tr>\n",
              "      <th>1234</th>\n",
              "      <td>125.0</td>\n",
              "      <td>0.0</td>\n",
              "    </tr>\n",
              "    <tr>\n",
              "      <th>1235</th>\n",
              "      <td>117.0</td>\n",
              "      <td>0.0</td>\n",
              "    </tr>\n",
              "    <tr>\n",
              "      <th>1236</th>\n",
              "      <td>NaN</td>\n",
              "      <td>NaN</td>\n",
              "    </tr>\n",
              "  </tbody>\n",
              "</table>\n",
              "<p>1237 rows × 2 columns</p>\n",
              "</div>"
            ],
            "text/plain": [
              "        bwt  smoke\n",
              "0     120.0    0.0\n",
              "1     113.0    0.0\n",
              "2     128.0    1.0\n",
              "3     123.0    0.0\n",
              "4     108.0    1.0\n",
              "...     ...    ...\n",
              "1232  128.0    0.0\n",
              "1233  130.0    1.0\n",
              "1234  125.0    0.0\n",
              "1235  117.0    0.0\n",
              "1236    NaN    NaN\n",
              "\n",
              "[1237 rows x 2 columns]"
            ]
          },
          "metadata": {},
          "execution_count": 2
        }
      ]
    },
    {
      "cell_type": "code",
      "metadata": {
        "id": "1XRNz3F8yw-r"
      },
      "source": [
        ""
      ],
      "execution_count": null,
      "outputs": []
    },
    {
      "cell_type": "markdown",
      "metadata": {
        "id": "0S7Mbh6Yynb6"
      },
      "source": [
        "0 : Là người mẹ không hút thuốc\n",
        "\n",
        "1 : Là người mẹ không có thuốc"
      ]
    },
    {
      "cell_type": "markdown",
      "metadata": {
        "id": "46ZLsPojyvqH"
      },
      "source": [
        "1. Mô tả dữ liệu bằng các giá trị số:\n"
      ]
    },
    {
      "cell_type": "markdown",
      "metadata": {
        "id": "d6N1-nnry1Xu"
      },
      "source": [
        "Bước 1: Tính các đại lượng thống kê cho hai tập dữ liệu"
      ]
    },
    {
      "cell_type": "code",
      "metadata": {
        "colab": {
          "base_uri": "https://localhost:8080/",
          "height": 286
        },
        "id": "U_TmUsb-y2Fs",
        "outputId": "01d8df92-cb05-432f-dc8b-369eaaeba7e7"
      },
      "source": [
        "sns.heatmap(df.isna(), \n",
        "            yticklabels=False, \n",
        "            cbar=True, \n",
        "            cmap='viridis')"
      ],
      "execution_count": 3,
      "outputs": [
        {
          "output_type": "execute_result",
          "data": {
            "text/plain": [
              "<matplotlib.axes._subplots.AxesSubplot at 0x7fa0ef9c4790>"
            ]
          },
          "metadata": {},
          "execution_count": 3
        },
        {
          "output_type": "display_data",
          "data": {
            "image/png": "[encoded data removed]",
            "text/plain": [
              "<Figure size 432x288 with 2 Axes>"
            ]
          },
          "metadata": {
            "needs_background": "light"
          }
        }
      ]
    },
    {
      "cell_type": "code",
      "metadata": {
        "id": "9OSMHYIKy5mG"
      },
      "source": [
        "# Tạo các hàm\n",
        "def Q0(g):\n",
        "  return np.percentile(g,0)\n",
        "def Q1(g):\n",
        "  return np.percentile(g,25)\n",
        "def Q2(g):\n",
        "  return np.percentile(g,50)\n",
        "def Q3(g):\n",
        "  return np.percentile(g,75)\n",
        "def IQR(x):\n",
        "  return np.subtract(*np.percentile(x, [75, 25]))\n",
        "def kurt(x):\n",
        "  return kurtosis(x, fisher=False)"
      ],
      "execution_count": 4,
      "outputs": []
    },
    {
      "cell_type": "code",
      "metadata": {
        "colab": {
          "base_uri": "https://localhost:8080/",
          "height": 203
        },
        "id": "HS3w1Pyyy9Oh",
        "outputId": "98dcf86d-ef7b-4db0-b7fd-1f57d4c3298f"
      },
      "source": [
        "# trình bày các đại lượng\n",
        "data =  df[df.smoke.isin(['0','1','9'])].groupby([\"smoke\"]).agg({'count','var','min',\n",
        "                                                                 'max','mean','std',\n",
        "                                                                 'median',Q0,Q1,Q2,Q3,IQR,\n",
        "                                                                 'skew',kurt}).rename(columns={'bwt':'Statistical','median':'Median','var':'Var','mean':'Mean',\n",
        "                                                                                                                        'std':'Std','max':'Max','min':'Min',\n",
        "                                                                                                                        'skew':'Skewness','kurt':'Kurtosis',\n",
        "                                                                                                                        'count':'Count','Q0':'Quantile 0',\n",
        "                                                                                                                        'Q1':'Quantile 25','Q2':'Quantile 50',\n",
        "                                                                                                                        'Q3':'Quantile 75'})\n",
        "data"
      ],
      "execution_count": 5,
      "outputs": [
        {
          "output_type": "execute_result",
          "data": {
            "text/html": [
              "<div>\n",
              "<style scoped>\n",
              "    .dataframe tbody tr th:only-of-type {\n",
              "        vertical-align: middle;\n",
              "    }\n",
              "\n",
              "    .dataframe tbody tr th {\n",
              "        vertical-align: top;\n",
              "    }\n",
              "\n",
              "    .dataframe thead tr th {\n",
              "        text-align: left;\n",
              "    }\n",
              "\n",
              "    .dataframe thead tr:last-of-type th {\n",
              "        text-align: right;\n",
              "    }\n",
              "</style>\n",
              "<table border=\"1\" class=\"dataframe\">\n",
              "  <thead>\n",
              "    <tr>\n",
              "      <th></th>\n",
              "      <th colspan=\"14\" halign=\"left\">Statistical</th>\n",
              "    </tr>\n",
              "    <tr>\n",
              "      <th></th>\n",
              "      <th>Quantile 25</th>\n",
              "      <th>Skewness</th>\n",
              "      <th>Max</th>\n",
              "      <th>Quantile 75</th>\n",
              "      <th>IQR</th>\n",
              "      <th>Median</th>\n",
              "      <th>Quantile 0</th>\n",
              "      <th>Min</th>\n",
              "      <th>Std</th>\n",
              "      <th>Quantile 50</th>\n",
              "      <th>Count</th>\n",
              "      <th>Var</th>\n",
              "      <th>Mean</th>\n",
              "      <th>Kurtosis</th>\n",
              "    </tr>\n",
              "    <tr>\n",
              "      <th>smoke</th>\n",
              "      <th></th>\n",
              "      <th></th>\n",
              "      <th></th>\n",
              "      <th></th>\n",
              "      <th></th>\n",
              "      <th></th>\n",
              "      <th></th>\n",
              "      <th></th>\n",
              "      <th></th>\n",
              "      <th></th>\n",
              "      <th></th>\n",
              "      <th></th>\n",
              "      <th></th>\n",
              "      <th></th>\n",
              "    </tr>\n",
              "  </thead>\n",
              "  <tbody>\n",
              "    <tr>\n",
              "      <th>0.0</th>\n",
              "      <td>113.00</td>\n",
              "      <td>-0.187363</td>\n",
              "      <td>176.0</td>\n",
              "      <td>134.00</td>\n",
              "      <td>21.0</td>\n",
              "      <td>123.0</td>\n",
              "      <td>55.0</td>\n",
              "      <td>55.0</td>\n",
              "      <td>17.398689</td>\n",
              "      <td>123.0</td>\n",
              "      <td>742</td>\n",
              "      <td>302.714371</td>\n",
              "      <td>123.047170</td>\n",
              "      <td>4.037060</td>\n",
              "    </tr>\n",
              "    <tr>\n",
              "      <th>1.0</th>\n",
              "      <td>102.00</td>\n",
              "      <td>-0.033700</td>\n",
              "      <td>163.0</td>\n",
              "      <td>126.00</td>\n",
              "      <td>24.0</td>\n",
              "      <td>115.0</td>\n",
              "      <td>58.0</td>\n",
              "      <td>58.0</td>\n",
              "      <td>18.098946</td>\n",
              "      <td>115.0</td>\n",
              "      <td>484</td>\n",
              "      <td>327.571835</td>\n",
              "      <td>114.109504</td>\n",
              "      <td>2.988032</td>\n",
              "    </tr>\n",
              "    <tr>\n",
              "      <th>9.0</th>\n",
              "      <td>109.75</td>\n",
              "      <td>-0.199227</td>\n",
              "      <td>158.0</td>\n",
              "      <td>141.75</td>\n",
              "      <td>32.0</td>\n",
              "      <td>128.0</td>\n",
              "      <td>90.0</td>\n",
              "      <td>90.0</td>\n",
              "      <td>21.812586</td>\n",
              "      <td>128.0</td>\n",
              "      <td>10</td>\n",
              "      <td>475.788889</td>\n",
              "      <td>126.700000</td>\n",
              "      <td>1.932738</td>\n",
              "    </tr>\n",
              "  </tbody>\n",
              "</table>\n",
              "</div>"
            ],
            "text/plain": [
              "      Statistical                   ...                                  \n",
              "      Quantile 25  Skewness    Max  ...         Var        Mean  Kurtosis\n",
              "smoke                               ...                                  \n",
              "0.0        113.00 -0.187363  176.0  ...  302.714371  123.047170  4.037060\n",
              "1.0        102.00 -0.033700  163.0  ...  327.571835  114.109504  2.988032\n",
              "9.0        109.75 -0.199227  158.0  ...  475.788889  126.700000  1.932738\n",
              "\n",
              "[3 rows x 14 columns]"
            ]
          },
          "metadata": {},
          "execution_count": 5
        }
      ]
    },
    {
      "cell_type": "code",
      "metadata": {
        "colab": {
          "base_uri": "https://localhost:8080/",
          "height": 386
        },
        "id": "Xx4QhbwuzBcY",
        "outputId": "a8f6d3ef-e65d-47c4-9864-d43f807f8c92"
      },
      "source": [
        "sns.displot(df,x='bwt',col='smoke',kde=True)"
      ],
      "execution_count": 6,
      "outputs": [
        {
          "output_type": "execute_result",
          "data": {
            "text/plain": [
              "<seaborn.axisgrid.FacetGrid at 0x7fa10379fd10>"
            ]
          },
          "metadata": {},
          "execution_count": 6
        },
        {
          "output_type": "display_data",
          "data": {
            "image/png": "[encoded data removed]",
            "text/plain": [
              "<Figure size 1080x360 with 3 Axes>"
            ]
          },
          "metadata": {
            "needs_background": "light"
          }
        }
      ]
    },
    {
      "cell_type": "markdown",
      "metadata": {
        "id": "ht5iAY7EzU7q"
      },
      "source": [
        " So sánh các giá trị thống kê mô tả của hai tập dữ liệu."
      ]
    },
    {
      "cell_type": "markdown",
      "metadata": {
        "id": "JB4Vw2vqzYx-"
      },
      "source": [
        "Sự khác biệt về vị trí tập trung dữ liệu: chênh lệch khoảng 123 -115 = 8"
      ]
    },
    {
      "cell_type": "markdown",
      "metadata": {
        "id": "ghZzJJkczbDM"
      },
      "source": [
        "Nhận xét: khác biệt không đáng kể."
      ]
    },
    {
      "cell_type": "code",
      "metadata": {
        "colab": {
          "base_uri": "https://localhost:8080/",
          "height": 203
        },
        "id": "fFjOAxyYzgRJ",
        "outputId": "8dde0f97-946a-4247-b658-22d9d31a4ef7"
      },
      "source": [
        "data_BD =  df[df.smoke.isin(['0','1','9'])].groupby([\"smoke\"]).agg({'var','std',IQR}).rename(columns={'bwt':'Statistical','var':'Var','std':'Std'})\n",
        "data_BD"
      ],
      "execution_count": 7,
      "outputs": [
        {
          "output_type": "execute_result",
          "data": {
            "text/html": [
              "<div>\n",
              "<style scoped>\n",
              "    .dataframe tbody tr th:only-of-type {\n",
              "        vertical-align: middle;\n",
              "    }\n",
              "\n",
              "    .dataframe tbody tr th {\n",
              "        vertical-align: top;\n",
              "    }\n",
              "\n",
              "    .dataframe thead tr th {\n",
              "        text-align: left;\n",
              "    }\n",
              "\n",
              "    .dataframe thead tr:last-of-type th {\n",
              "        text-align: right;\n",
              "    }\n",
              "</style>\n",
              "<table border=\"1\" class=\"dataframe\">\n",
              "  <thead>\n",
              "    <tr>\n",
              "      <th></th>\n",
              "      <th colspan=\"3\" halign=\"left\">Statistical</th>\n",
              "    </tr>\n",
              "    <tr>\n",
              "      <th></th>\n",
              "      <th>IQR</th>\n",
              "      <th>Var</th>\n",
              "      <th>Std</th>\n",
              "    </tr>\n",
              "    <tr>\n",
              "      <th>smoke</th>\n",
              "      <th></th>\n",
              "      <th></th>\n",
              "      <th></th>\n",
              "    </tr>\n",
              "  </thead>\n",
              "  <tbody>\n",
              "    <tr>\n",
              "      <th>0.0</th>\n",
              "      <td>21.0</td>\n",
              "      <td>302.714371</td>\n",
              "      <td>17.398689</td>\n",
              "    </tr>\n",
              "    <tr>\n",
              "      <th>1.0</th>\n",
              "      <td>24.0</td>\n",
              "      <td>327.571835</td>\n",
              "      <td>18.098946</td>\n",
              "    </tr>\n",
              "    <tr>\n",
              "      <th>9.0</th>\n",
              "      <td>32.0</td>\n",
              "      <td>475.788889</td>\n",
              "      <td>21.812586</td>\n",
              "    </tr>\n",
              "  </tbody>\n",
              "</table>\n",
              "</div>"
            ],
            "text/plain": [
              "      Statistical                       \n",
              "              IQR         Var        Std\n",
              "smoke                                   \n",
              "0.0          21.0  302.714371  17.398689\n",
              "1.0          24.0  327.571835  18.098946\n",
              "9.0          32.0  475.788889  21.812586"
            ]
          },
          "metadata": {},
          "execution_count": 7
        }
      ]
    },
    {
      "cell_type": "code",
      "metadata": {
        "colab": {
          "base_uri": "https://localhost:8080/",
          "height": 203
        },
        "id": "Cvo_xL1_zj61",
        "outputId": "b5d6aa8a-a745-40c5-dddc-49bbe087825d"
      },
      "source": [
        "data_CL =  df[df.smoke.isin(['0','1','9'])].groupby([\"smoke\"]).agg({'skew',kurt}).rename(columns={'bwt':'Statistical',\n",
        "                                                                                                  'skew':'Skewness','kurt':'Kurtosis'})\n",
        "data_CL"
      ],
      "execution_count": 8,
      "outputs": [
        {
          "output_type": "execute_result",
          "data": {
            "text/html": [
              "<div>\n",
              "<style scoped>\n",
              "    .dataframe tbody tr th:only-of-type {\n",
              "        vertical-align: middle;\n",
              "    }\n",
              "\n",
              "    .dataframe tbody tr th {\n",
              "        vertical-align: top;\n",
              "    }\n",
              "\n",
              "    .dataframe thead tr th {\n",
              "        text-align: left;\n",
              "    }\n",
              "\n",
              "    .dataframe thead tr:last-of-type th {\n",
              "        text-align: right;\n",
              "    }\n",
              "</style>\n",
              "<table border=\"1\" class=\"dataframe\">\n",
              "  <thead>\n",
              "    <tr>\n",
              "      <th></th>\n",
              "      <th colspan=\"2\" halign=\"left\">Statistical</th>\n",
              "    </tr>\n",
              "    <tr>\n",
              "      <th></th>\n",
              "      <th>Kurtosis</th>\n",
              "      <th>Skewness</th>\n",
              "    </tr>\n",
              "    <tr>\n",
              "      <th>smoke</th>\n",
              "      <th></th>\n",
              "      <th></th>\n",
              "    </tr>\n",
              "  </thead>\n",
              "  <tbody>\n",
              "    <tr>\n",
              "      <th>0.0</th>\n",
              "      <td>4.037060</td>\n",
              "      <td>-0.187363</td>\n",
              "    </tr>\n",
              "    <tr>\n",
              "      <th>1.0</th>\n",
              "      <td>2.988032</td>\n",
              "      <td>-0.033700</td>\n",
              "    </tr>\n",
              "    <tr>\n",
              "      <th>9.0</th>\n",
              "      <td>1.932738</td>\n",
              "      <td>-0.199227</td>\n",
              "    </tr>\n",
              "  </tbody>\n",
              "</table>\n",
              "</div>"
            ],
            "text/plain": [
              "      Statistical          \n",
              "         Kurtosis  Skewness\n",
              "smoke                      \n",
              "0.0      4.037060 -0.187363\n",
              "1.0      2.988032 -0.033700\n",
              "9.0      1.932738 -0.199227"
            ]
          },
          "metadata": {},
          "execution_count": 8
        }
      ]
    },
    {
      "cell_type": "markdown",
      "metadata": {
        "id": "4zjsPc12znfX"
      },
      "source": [
        "Nhận xét: trường hợp bà mẹ hút thuốc có phân bố dữ liệu nhọn hơn, đối xứng hơn so với trường hợp không hút thuốc. Cả 2 trường hợp đều hơi lệch về trái."
      ]
    },
    {
      "cell_type": "markdown",
      "metadata": {
        "id": "u_mRU49azwOo"
      },
      "source": [
        "2. Biểu diễn hình học của dữ liệu0"
      ]
    },
    {
      "cell_type": "markdown",
      "metadata": {
        "id": "Pvx3zOw0zpZ-"
      },
      "source": [
        "1. Dữ liệu cân nặng của trẻ trong trường hợp bà mẹ hút thuốc và bà mẹ không hút thuốc Ta sẽ phân tích các biểu đồ:"
      ]
    },
    {
      "cell_type": "code",
      "metadata": {
        "colab": {
          "base_uri": "https://localhost:8080/",
          "height": 282
        },
        "id": "FYh4GuaOzyep",
        "outputId": "6de8ab5a-f052-40c6-f632-7a012e726914"
      },
      "source": [
        "df.loc[(df.smoke== 1),'bwt'].plot.hist()"
      ],
      "execution_count": 9,
      "outputs": [
        {
          "output_type": "execute_result",
          "data": {
            "text/plain": [
              "<matplotlib.axes._subplots.AxesSubplot at 0x7fa0e6b6d7d0>"
            ]
          },
          "metadata": {},
          "execution_count": 9
        },
        {
          "output_type": "display_data",
          "data": {
            "image/png": "[encoded data removed]",
            "text/plain": [
              "<Figure size 432x288 with 1 Axes>"
            ]
          },
          "metadata": {
            "needs_background": "light"
          }
        }
      ]
    },
    {
      "cell_type": "code",
      "metadata": {
        "colab": {
          "base_uri": "https://localhost:8080/",
          "height": 296
        },
        "id": "oko7Z8gxz8gu",
        "outputId": "40b3603f-93ac-4f96-e12d-8cf9c1926ca4"
      },
      "source": [
        "sns.boxplot(x='bwt', data = df.loc[(df.smoke== 1)])"
      ],
      "execution_count": 10,
      "outputs": [
        {
          "output_type": "execute_result",
          "data": {
            "text/plain": [
              "<matplotlib.axes._subplots.AxesSubplot at 0x7fa0e38bbd50>"
            ]
          },
          "metadata": {},
          "execution_count": 10
        },
        {
          "output_type": "display_data",
          "data": {
            "image/png": "[encoded data removed]",
            "text/plain": [
              "<Figure size 432x288 with 1 Axes>"
            ]
          },
          "metadata": {
            "needs_background": "light"
          }
        }
      ]
    },
    {
      "cell_type": "markdown",
      "metadata": {
        "id": "PFf-NNz-0AUK"
      },
      "source": [
        "b. Histogram và Boxplot trong trường hợp bà mẹ không hút thuốc:"
      ]
    },
    {
      "cell_type": "code",
      "metadata": {
        "colab": {
          "base_uri": "https://localhost:8080/",
          "height": 282
        },
        "id": "EFMDIw2H0A2S",
        "outputId": "2c9ef238-0304-48e3-d3ec-e2eee433000e"
      },
      "source": [
        "df.loc[(df.smoke== 0),'bwt'].plot.hist()"
      ],
      "execution_count": 11,
      "outputs": [
        {
          "output_type": "execute_result",
          "data": {
            "text/plain": [
              "<matplotlib.axes._subplots.AxesSubplot at 0x7fa0e38aca10>"
            ]
          },
          "metadata": {},
          "execution_count": 11
        },
        {
          "output_type": "display_data",
          "data": {
            "image/png": "[encoded data removed]",
            "text/plain": [
              "<Figure size 432x288 with 1 Axes>"
            ]
          },
          "metadata": {
            "needs_background": "light"
          }
        }
      ]
    },
    {
      "cell_type": "code",
      "metadata": {
        "colab": {
          "base_uri": "https://localhost:8080/",
          "height": 296
        },
        "id": "3WMn7XSl0EgD",
        "outputId": "1d1fd6a9-f36e-4a22-df32-a41b1a274957"
      },
      "source": [
        "sns.boxplot(x='bwt', data = df.loc[(df.smoke== 0)])"
      ],
      "execution_count": 12,
      "outputs": [
        {
          "output_type": "execute_result",
          "data": {
            "text/plain": [
              "<matplotlib.axes._subplots.AxesSubplot at 0x7fa0e38534d0>"
            ]
          },
          "metadata": {},
          "execution_count": 12
        },
        {
          "output_type": "display_data",
          "data": {
            "image/png": "[encoded data removed]",
            "text/plain": [
              "<Figure size 432x288 with 1 Axes>"
            ]
          },
          "metadata": {
            "needs_background": "light"
          }
        }
      ]
    },
    {
      "cell_type": "code",
      "metadata": {
        "colab": {
          "base_uri": "https://localhost:8080/",
          "height": 282
        },
        "id": "kn22NN__0b9q",
        "outputId": "30355252-c42b-4162-8d2a-66a839d12ac6"
      },
      "source": [
        "df.loc[(df.smoke== 0),'bwt'].plot.hist()\n",
        "df.loc[(df.smoke== 1),'bwt'].plot.hist()"
      ],
      "execution_count": 13,
      "outputs": [
        {
          "output_type": "execute_result",
          "data": {
            "text/plain": [
              "<matplotlib.axes._subplots.AxesSubplot at 0x7fa0ef9f6ad0>"
            ]
          },
          "metadata": {},
          "execution_count": 13
        },
        {
          "output_type": "display_data",
          "data": {
            "image/png": "[encoded data removed]",
            "text/plain": [
              "<Figure size 432x288 with 1 Axes>"
            ]
          },
          "metadata": {
            "needs_background": "light"
          }
        }
      ]
    }
  ]
}